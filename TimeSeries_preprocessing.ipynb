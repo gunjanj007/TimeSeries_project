{
 "cells": [
  {
   "cell_type": "code",
   "execution_count": 104,
   "metadata": {},
   "outputs": [],
   "source": [
    "import pandas as pd\n",
    "import numpy as np\n",
    "from datetime import datetime as dt\n",
    "from matplotlib import pyplot"
   ]
  },
  {
   "cell_type": "code",
   "execution_count": 82,
   "metadata": {},
   "outputs": [],
   "source": [
    "df = pd.read_csv('station_day.csv')"
   ]
  },
  {
   "cell_type": "code",
   "execution_count": 4,
   "metadata": {},
   "outputs": [],
   "source": [
    "stations = [\"DL\"+str(i).zfill(3) for i in range(1,39)]"
   ]
  },
  {
   "cell_type": "code",
   "execution_count": 5,
   "metadata": {},
   "outputs": [],
   "source": [
    "df = df[df['StationId'].isin(stations)]\n",
    "df['Date'] = pd.to_datetime(df['Date'])\n",
    "df = df[df['Date'] >= dt.strptime('2018-11-11 00:00:00', \"%Y-%m-%d 00:00:00\")]"
   ]
  },
  {
   "cell_type": "code",
   "execution_count": 6,
   "metadata": {},
   "outputs": [],
   "source": [
    "grouped = df.groupby('StationId')"
   ]
  },
  {
   "cell_type": "code",
   "execution_count": 7,
   "metadata": {
    "scrolled": false
   },
   "outputs": [
    {
     "name": "stdout",
     "output_type": "stream",
     "text": [
      "DL001 2018-11-11 00:00:00 2020-07-01 00:00:00\n",
      "PM2.5    16\n",
      "PM10     11\n",
      "NO       12\n",
      "NO2      11\n",
      "NOx      11\n",
      "SO2      13\n",
      "dtype: int64\n",
      "\n",
      "DL002 2018-11-11 00:00:00 2020-07-01 00:00:00\n",
      "PM2.5    30\n",
      "PM10     36\n",
      "NO       34\n",
      "NO2      34\n",
      "NOx      34\n",
      "SO2      32\n",
      "dtype: int64\n",
      "\n",
      "DL003 2018-11-11 00:00:00 2020-07-01 00:00:00\n",
      "PM2.5    2\n",
      "PM10     0\n",
      "NO       0\n",
      "NO2      0\n",
      "NOx      0\n",
      "SO2      2\n",
      "dtype: int64\n",
      "\n",
      "DL005 2018-11-11 00:00:00 2020-07-01 00:00:00\n",
      "PM2.5     7\n",
      "PM10     37\n",
      "NO        5\n",
      "NO2       5\n",
      "NOx       5\n",
      "SO2      15\n",
      "dtype: int64\n",
      "\n",
      "DL008 2018-11-11 00:00:00 2020-07-01 00:00:00\n",
      "PM2.5     9\n",
      "PM10      5\n",
      "NO        7\n",
      "NO2       6\n",
      "NOx       5\n",
      "SO2      11\n",
      "dtype: int64\n",
      "\n",
      "DL009 2018-11-11 00:00:00 2020-07-01 00:00:00\n",
      "PM2.5    0\n",
      "PM10     0\n",
      "NO       0\n",
      "NO2      0\n",
      "NOx      0\n",
      "SO2      2\n",
      "dtype: int64\n",
      "\n",
      "DL010 2018-11-11 00:00:00 2020-07-01 00:00:00\n",
      "PM2.5    0\n",
      "PM10     6\n",
      "NO       0\n",
      "NO2      0\n",
      "NOx      0\n",
      "SO2      0\n",
      "dtype: int64\n",
      "\n",
      "DL014 2018-11-11 00:00:00 2020-07-01 00:00:00\n",
      "PM2.5     5\n",
      "PM10     19\n",
      "NO       13\n",
      "NO2      13\n",
      "NOx       7\n",
      "SO2      43\n",
      "dtype: int64\n",
      "\n",
      "DL015 2018-11-11 00:00:00 2020-07-01 00:00:00\n",
      "PM2.5    0\n",
      "PM10     5\n",
      "NO       1\n",
      "NO2      1\n",
      "NOx      1\n",
      "SO2      4\n",
      "dtype: int64\n",
      "\n",
      "DL016 2018-11-11 00:00:00 2020-07-01 00:00:00\n",
      "PM2.5    3\n",
      "PM10     2\n",
      "NO       1\n",
      "NO2      1\n",
      "NOx      1\n",
      "SO2      1\n",
      "dtype: int64\n",
      "\n",
      "DL018 2018-11-11 00:00:00 2020-07-01 00:00:00\n",
      "PM2.5    2\n",
      "PM10     8\n",
      "NO       2\n",
      "NO2      2\n",
      "NOx      2\n",
      "SO2      2\n",
      "dtype: int64\n",
      "\n",
      "DL019 2018-11-11 00:00:00 2020-07-01 00:00:00\n",
      "PM2.5    4\n",
      "PM10     4\n",
      "NO       9\n",
      "NO2      8\n",
      "NOx      8\n",
      "SO2      9\n",
      "dtype: int64\n",
      "\n",
      "DL020 2018-11-11 00:00:00 2020-07-01 00:00:00\n",
      "PM2.5     3\n",
      "PM10      8\n",
      "NO       11\n",
      "NO2      11\n",
      "NOx      11\n",
      "SO2       2\n",
      "dtype: int64\n",
      "\n",
      "DL022 2018-11-11 00:00:00 2020-07-01 00:00:00\n",
      "PM2.5    11\n",
      "PM10     24\n",
      "NO       14\n",
      "NO2      14\n",
      "NOx      14\n",
      "SO2      14\n",
      "dtype: int64\n",
      "\n",
      "DL023 2018-11-11 00:00:00 2020-07-01 00:00:00\n",
      "PM2.5    15\n",
      "PM10     16\n",
      "NO       18\n",
      "NO2      18\n",
      "NOx      16\n",
      "SO2      25\n",
      "dtype: int64\n",
      "\n",
      "DL024 2018-11-11 00:00:00 2020-07-01 00:00:00\n",
      "PM2.5     0\n",
      "PM10     10\n",
      "NO        0\n",
      "NO2       0\n",
      "NOx       0\n",
      "SO2       2\n",
      "dtype: int64\n",
      "\n",
      "DL026 2018-11-11 00:00:00 2020-07-01 00:00:00\n",
      "PM2.5     1\n",
      "PM10     12\n",
      "NO        1\n",
      "NO2       0\n",
      "NOx       0\n",
      "SO2       2\n",
      "dtype: int64\n",
      "\n",
      "DL027 2018-11-11 00:00:00 2020-07-01 00:00:00\n",
      "PM2.5     2\n",
      "PM10     11\n",
      "NO        5\n",
      "NO2       4\n",
      "NOx       4\n",
      "SO2       5\n",
      "dtype: int64\n",
      "\n",
      "DL028 2018-11-11 00:00:00 2020-07-01 00:00:00\n",
      "PM2.5     7\n",
      "PM10     10\n",
      "NO       12\n",
      "NO2      12\n",
      "NOx      12\n",
      "SO2      26\n",
      "dtype: int64\n",
      "\n",
      "DL031 2018-11-11 00:00:00 2020-07-01 00:00:00\n",
      "PM2.5     4\n",
      "PM10     14\n",
      "NO        3\n",
      "NO2       3\n",
      "NOx       1\n",
      "SO2       3\n",
      "dtype: int64\n",
      "\n",
      "DL032 2018-11-11 00:00:00 2020-07-01 00:00:00\n",
      "PM2.5    7\n",
      "PM10     2\n",
      "NO       2\n",
      "NO2      3\n",
      "NOx      2\n",
      "SO2      7\n",
      "dtype: int64\n",
      "\n",
      "DL034 2018-11-11 00:00:00 2020-07-01 00:00:00\n",
      "PM2.5    8\n",
      "PM10     5\n",
      "NO       8\n",
      "NO2      8\n",
      "NOx      5\n",
      "SO2      7\n",
      "dtype: int64\n",
      "\n",
      "DL035 2018-11-11 00:00:00 2020-07-01 00:00:00\n",
      "PM2.5     4\n",
      "PM10     10\n",
      "NO       18\n",
      "NO2      18\n",
      "NOx      18\n",
      "SO2      35\n",
      "dtype: int64\n",
      "\n",
      "DL036 2018-11-11 00:00:00 2020-07-01 00:00:00\n",
      "PM2.5    2\n",
      "PM10     2\n",
      "NO       1\n",
      "NO2      1\n",
      "NOx      1\n",
      "SO2      1\n",
      "dtype: int64\n",
      "\n",
      "DL037 2018-11-11 00:00:00 2020-07-01 00:00:00\n",
      "PM2.5    1\n",
      "PM10     2\n",
      "NO       2\n",
      "NO2      2\n",
      "NOx      2\n",
      "SO2      1\n",
      "dtype: int64\n",
      "\n",
      "DL038 2018-11-11 00:00:00 2020-07-01 00:00:00\n",
      "PM2.5     3\n",
      "PM10     10\n",
      "NO        7\n",
      "NO2       7\n",
      "NOx       6\n",
      "SO2      16\n",
      "dtype: int64\n",
      "\n"
     ]
    }
   ],
   "source": [
    "remove = []\n",
    "for st, group in grouped:\n",
    "    if len(group) != 599:\n",
    "        remove.append(st)\n",
    "        continue\n",
    "\n",
    "    clipped = group[['PM2.5', 'PM10', 'NO', 'NO2', 'NOx', 'SO2']]\n",
    "    missing = clipped.isna().sum(axis=0)\n",
    "    if (missing >50).any():\n",
    "        remove.append(st)\n",
    "        continue\n",
    "    print(st, min(group['Date']), max(group['Date']))\n",
    "    print((missing))\n",
    "    print()"
   ]
  },
  {
   "cell_type": "code",
   "execution_count": 15,
   "metadata": {},
   "outputs": [],
   "source": [
    "delhi_df = df[~df['StationId'].isin(remove)]\n",
    "delhi_df = df[['StationId','Date','PM2.5', 'PM10', 'NO', 'NO2', 'NOx', 'SO2']]"
   ]
  },
  {
   "cell_type": "code",
   "execution_count": 16,
   "metadata": {},
   "outputs": [],
   "source": [
    "delhi_df.to_csv('delhi_stations.csv', index=False)"
   ]
  },
  {
   "cell_type": "code",
   "execution_count": 84,
   "metadata": {},
   "outputs": [],
   "source": [
    "delhi_df = pd.read_csv('delhi_stations.csv')\n",
    "delhi_df.set_index('Date', inplace = True)\n",
    "delhi_df.index = pd.to_datetime(delhi_df.index)"
   ]
  },
  {
   "cell_type": "code",
   "execution_count": 85,
   "metadata": {},
   "outputs": [
    {
     "data": {
      "text/html": [
       "<div>\n",
       "<style scoped>\n",
       "    .dataframe tbody tr th:only-of-type {\n",
       "        vertical-align: middle;\n",
       "    }\n",
       "\n",
       "    .dataframe tbody tr th {\n",
       "        vertical-align: top;\n",
       "    }\n",
       "\n",
       "    .dataframe thead th {\n",
       "        text-align: right;\n",
       "    }\n",
       "</style>\n",
       "<table border=\"1\" class=\"dataframe\">\n",
       "  <thead>\n",
       "    <tr style=\"text-align: right;\">\n",
       "      <th></th>\n",
       "      <th>StationId</th>\n",
       "      <th>PM2.5</th>\n",
       "      <th>PM10</th>\n",
       "      <th>NO</th>\n",
       "      <th>NO2</th>\n",
       "      <th>NOx</th>\n",
       "      <th>SO2</th>\n",
       "    </tr>\n",
       "    <tr>\n",
       "      <th>Date</th>\n",
       "      <th></th>\n",
       "      <th></th>\n",
       "      <th></th>\n",
       "      <th></th>\n",
       "      <th></th>\n",
       "      <th></th>\n",
       "      <th></th>\n",
       "    </tr>\n",
       "  </thead>\n",
       "  <tbody>\n",
       "    <tr>\n",
       "      <th>2018-11-11</th>\n",
       "      <td>DL001</td>\n",
       "      <td>232.36</td>\n",
       "      <td>415.28</td>\n",
       "      <td>1.72</td>\n",
       "      <td>79.86</td>\n",
       "      <td>43.87</td>\n",
       "      <td>23.48</td>\n",
       "    </tr>\n",
       "    <tr>\n",
       "      <th>2018-11-12</th>\n",
       "      <td>DL001</td>\n",
       "      <td>238.43</td>\n",
       "      <td>348.91</td>\n",
       "      <td>3.25</td>\n",
       "      <td>78.95</td>\n",
       "      <td>44.63</td>\n",
       "      <td>14.38</td>\n",
       "    </tr>\n",
       "    <tr>\n",
       "      <th>2018-11-13</th>\n",
       "      <td>DL001</td>\n",
       "      <td>284.83</td>\n",
       "      <td>427.40</td>\n",
       "      <td>19.98</td>\n",
       "      <td>112.54</td>\n",
       "      <td>76.15</td>\n",
       "      <td>21.33</td>\n",
       "    </tr>\n",
       "    <tr>\n",
       "      <th>2018-11-14</th>\n",
       "      <td>DL001</td>\n",
       "      <td>150.41</td>\n",
       "      <td>214.16</td>\n",
       "      <td>6.35</td>\n",
       "      <td>96.17</td>\n",
       "      <td>56.30</td>\n",
       "      <td>12.74</td>\n",
       "    </tr>\n",
       "    <tr>\n",
       "      <th>2018-11-15</th>\n",
       "      <td>DL001</td>\n",
       "      <td>106.11</td>\n",
       "      <td>154.36</td>\n",
       "      <td>7.36</td>\n",
       "      <td>77.52</td>\n",
       "      <td>47.21</td>\n",
       "      <td>12.46</td>\n",
       "    </tr>\n",
       "  </tbody>\n",
       "</table>\n",
       "</div>"
      ],
      "text/plain": [
       "           StationId   PM2.5    PM10     NO     NO2    NOx    SO2\n",
       "Date                                                             \n",
       "2018-11-11     DL001  232.36  415.28   1.72   79.86  43.87  23.48\n",
       "2018-11-12     DL001  238.43  348.91   3.25   78.95  44.63  14.38\n",
       "2018-11-13     DL001  284.83  427.40  19.98  112.54  76.15  21.33\n",
       "2018-11-14     DL001  150.41  214.16   6.35   96.17  56.30  12.74\n",
       "2018-11-15     DL001  106.11  154.36   7.36   77.52  47.21  12.46"
      ]
     },
     "execution_count": 85,
     "metadata": {},
     "output_type": "execute_result"
    }
   ],
   "source": [
    "delhi_df.head()"
   ]
  },
  {
   "cell_type": "code",
   "execution_count": 86,
   "metadata": {},
   "outputs": [],
   "source": [
    "delhi_df = delhi_df.interpolate(method = 'time')"
   ]
  },
  {
   "cell_type": "code",
   "execution_count": 87,
   "metadata": {},
   "outputs": [],
   "source": [
    "index = delhi_df['PM10'].index[delhi_df['PM10'].apply(np.isnan)]"
   ]
  },
  {
   "cell_type": "code",
   "execution_count": 88,
   "metadata": {},
   "outputs": [
    {
     "data": {
      "text/plain": [
       "array([], dtype=float64)"
      ]
     },
     "execution_count": 88,
     "metadata": {},
     "output_type": "execute_result"
    }
   ],
   "source": [
    "delhi_df['PM10'][index].unique()"
   ]
  },
  {
   "cell_type": "code",
   "execution_count": 89,
   "metadata": {},
   "outputs": [
    {
     "data": {
      "text/plain": [
       "Series([], Name: PM10, dtype: float64)"
      ]
     },
     "execution_count": 89,
     "metadata": {},
     "output_type": "execute_result"
    }
   ],
   "source": [
    "delhi_df['PM10'][index]"
   ]
  },
  {
   "cell_type": "code",
   "execution_count": 98,
   "metadata": {},
   "outputs": [],
   "source": [
    "grouped = delhi_df.groupby('StationId')\n",
    "\n",
    "North = ['DL003', 'DL015', 'DL028', 'DL038']\n",
    "South = ['DL016', 'DL024', 'DL026', 'DL031', 'DL034', 'DL036']\n",
    "West = ['DL010', 'DL020', 'DL022']\n",
    "East = ['DL02', 'DL027', 'DL037']"
   ]
  },
  {
   "cell_type": "code",
   "execution_count": 100,
   "metadata": {},
   "outputs": [],
   "source": [
    "station1 = delhi_df[delhi_df['StationId'] == 'DL003']"
   ]
  },
  {
   "cell_type": "code",
   "execution_count": 105,
   "metadata": {},
   "outputs": [
    {
     "data": {
      "text/plain": [
       "<matplotlib.axes._subplots.AxesSubplot at 0x27dee132470>"
      ]
     },
     "execution_count": 105,
     "metadata": {},
     "output_type": "execute_result"
    },
    {
     "data": {
      "image/png": "[encoded data removed]",
      "text/plain": [
       "<Figure size 432x288 with 1 Axes>"
      ]
     },
     "metadata": {},
     "output_type": "display_data"
    }
   ],
   "source": [
    "station1['PM2.5'].plot()"
   ]
  },
  {
   "cell_type": "code",
   "execution_count": 106,
   "metadata": {},
   "outputs": [
    {
     "data": {
      "text/plain": [
       "<matplotlib.axes._subplots.AxesSubplot at 0x27dee2c2860>"
      ]
     },
     "execution_count": 106,
     "metadata": {},
     "output_type": "execute_result"
    },
    {
     "data": {
      "image/png": "[encoded data removed]",
      "text/plain": [
       "<Figure size 432x288 with 1 Axes>"
      ]
     },
     "metadata": {},
     "output_type": "display_data"
    }
   ],
   "source": [
    "station1['PM10'].plot()"
   ]
  },
  {
   "cell_type": "code",
   "execution_count": 116,
   "metadata": {},
   "outputs": [],
   "source": [
    "North_df = delhi_df[delhi_df['StationId'].isin(North)]\n",
    "South_df = delhi_df[delhi_df['StationId'].isin(South)]\n",
    "West_df = delhi_df[delhi_df['StationId'].isin(West)]\n",
    "East_df = delhi_df[delhi_df['StationId'].isin(East)]"
   ]
  },
  {
   "cell_type": "code",
   "execution_count": 112,
   "metadata": {},
   "outputs": [
    {
     "data": {
      "text/plain": [
       "Date\n",
       "2018-11-11    False\n",
       "2018-11-12    False\n",
       "2018-11-13    False\n",
       "2018-11-14    False\n",
       "2018-11-15    False\n",
       "              ...  \n",
       "2020-06-27     True\n",
       "2020-06-28     True\n",
       "2020-06-29     True\n",
       "2020-06-30     True\n",
       "2020-07-01     True\n",
       "Name: StationId, Length: 22580, dtype: bool"
      ]
     },
     "execution_count": 112,
     "metadata": {},
     "output_type": "execute_result"
    }
   ],
   "source": [
    "North_df.to_csv('North.csv', index=False)"
   ]
  },
  {
   "cell_type": "code",
   "execution_count": 108,
   "metadata": {},
   "outputs": [
    {
     "ename": "ValueError",
     "evalue": "The truth value of a Series is ambiguous. Use a.empty, a.bool(), a.item(), a.any() or a.all().",
     "output_type": "error",
     "traceback": [
      "\u001b[1;31m---------------------------------------------------------------------------\u001b[0m",
      "\u001b[1;31mValueError\u001b[0m                                Traceback (most recent call last)",
      "\u001b[1;32m<ipython-input-108-ef94d6909d63>\u001b[0m in \u001b[0;36m<module>\u001b[1;34m()\u001b[0m\n\u001b[1;32m----> 1\u001b[1;33m \u001b[0mNorth_df\u001b[0m \u001b[1;33m=\u001b[0m \u001b[0mdelhi_df\u001b[0m\u001b[1;33m[\u001b[0m\u001b[0mdelhi_df\u001b[0m\u001b[1;33m[\u001b[0m\u001b[1;34m'StationId'\u001b[0m\u001b[1;33m]\u001b[0m \u001b[1;32min\u001b[0m \u001b[0mNorth\u001b[0m\u001b[1;33m]\u001b[0m\u001b[1;33m\u001b[0m\u001b[0m\n\u001b[0m\u001b[0;32m      2\u001b[0m \u001b[1;32mfor\u001b[0m \u001b[0mst\u001b[0m\u001b[1;33m,\u001b[0m \u001b[0mgroup\u001b[0m \u001b[1;32min\u001b[0m \u001b[0mgrouped\u001b[0m\u001b[1;33m:\u001b[0m\u001b[1;33m\u001b[0m\u001b[0m\n\u001b[0;32m      3\u001b[0m     \u001b[1;32mif\u001b[0m \u001b[0mst\u001b[0m \u001b[1;32min\u001b[0m \u001b[0mNorth\u001b[0m\u001b[1;33m:\u001b[0m\u001b[1;33m\u001b[0m\u001b[0m\n\u001b[0;32m      4\u001b[0m         \u001b[0mprint\u001b[0m\u001b[1;33m(\u001b[0m\u001b[0mst\u001b[0m\u001b[1;33m)\u001b[0m\u001b[1;33m\u001b[0m\u001b[0m\n\u001b[0;32m      5\u001b[0m \u001b[1;33m\u001b[0m\u001b[0m\n",
      "\u001b[1;32m~\\Anaconda3\\lib\\site-packages\\pandas\\core\\generic.py\u001b[0m in \u001b[0;36m__nonzero__\u001b[1;34m(self)\u001b[0m\n\u001b[0;32m   1553\u001b[0m             \u001b[1;34m\"The truth value of a {0} is ambiguous. \"\u001b[0m\u001b[1;33m\u001b[0m\u001b[0m\n\u001b[0;32m   1554\u001b[0m             \"Use a.empty, a.bool(), a.item(), a.any() or a.all().\".format(\n\u001b[1;32m-> 1555\u001b[1;33m                 \u001b[0mself\u001b[0m\u001b[1;33m.\u001b[0m\u001b[0m__class__\u001b[0m\u001b[1;33m.\u001b[0m\u001b[0m__name__\u001b[0m\u001b[1;33m\u001b[0m\u001b[0m\n\u001b[0m\u001b[0;32m   1556\u001b[0m             )\n\u001b[0;32m   1557\u001b[0m         )\n",
      "\u001b[1;31mValueError\u001b[0m: The truth value of a Series is ambiguous. Use a.empty, a.bool(), a.item(), a.any() or a.all()."
     ]
    }
   ],
   "source": [
    "North_df = delhi_df[delhi_df['StationId'] in North]\n",
    "for st, group in grouped:\n",
    "    if st in North:\n",
    "        print(st)\n",
    "\n",
    "#     clipped = group[['PM2.5', 'PM10', 'NO', 'NO2', 'NOx', 'SO2']]\n",
    "#     missing = clipped.isna().sum(axis=0)\n",
    "#     if (missing >50).any():\n",
    "#         remove.append(st)\n",
    "#         continue\n",
    "#     print(st, min(group['Date']), max(group['Date']))\n",
    "#     print((missing))\n",
    "#     print()"
   ]
  }
 ],
 "metadata": {
  "kernelspec": {
   "display_name": "Python 3",
   "language": "python",
   "name": "python3"
  },
  "language_info": {
   "codemirror_mode": {
    "name": "ipython",
    "version": 3
   },
   "file_extension": ".py",
   "mimetype": "text/x-python",
   "name": "python",
   "nbconvert_exporter": "python",
   "pygments_lexer": "ipython3",
   "version": "3.6.4"
  }
 },
 "nbformat": 4,
 "nbformat_minor": 4
}
