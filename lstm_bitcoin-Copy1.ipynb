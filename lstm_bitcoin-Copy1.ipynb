{
 "cells": [
  {
   "cell_type": "code",
   "execution_count": null,
   "metadata": {},
   "outputs": [],
   "source": [
    "import numpy as np\n",
    "import pandas as pd\n",
    "import matplotlib.pyplot as plt\n",
    "import seaborn as sns\n",
    "from datetime import datetime as dt\n",
    "plt.rcParams['figure.dpi'] = 120 # Adjusting figure size"
   ]
  },
  {
   "cell_type": "code",
   "execution_count": null,
   "metadata": {},
   "outputs": [],
   "source": [
    "from sklearn.preprocessing import MinMaxScaler\n",
    "from keras.models import Sequential\n",
    "from keras.layers import Dense\n",
    "from keras.layers import LSTM\n",
    "from keras.layers import Dropout\n",
    "from keras.layers import Activation"
   ]
  },
  {
   "cell_type": "code",
   "execution_count": null,
   "metadata": {},
   "outputs": [],
   "source": [
    "bit_file = 'bitcoin_updated.csv'\n",
    "ether_file = 'ethereum_updated.csv'"
   ]
  },
  {
   "cell_type": "code",
   "execution_count": null,
   "metadata": {},
   "outputs": [],
   "source": [
    "def process(file):\n",
    "    df = pd.read_csv(file, header=0)\n",
    "    df['Time'] = pd.to_datetime(df['Date'])\n",
    "    df.drop(columns=['Date'], inplace=True)\n",
    "    columns = ['Open*','High','Low','Close**','Volume', 'Market Cap']\n",
    "    df = df[['Time','Open*','High','Low','Volume', 'Market Cap','Close**']]\n",
    "    \n",
    "    for col in columns:\n",
    "        df[col] = df[col].str.replace(',', '').astype(float)\n",
    "        #df[col] = df[col].replace(astype(float))\n",
    "    df = df.sort_values(by='Time').set_index('Time')\n",
    "    return df"
   ]
  },
  {
   "cell_type": "code",
   "execution_count": null,
   "metadata": {},
   "outputs": [],
   "source": [
    "df = process(bit_file)\n",
    "df = df[['Close**']]\n",
    "train_df = df[:-10].copy()\n",
    "test_df = df[-10:].copy()\n",
    "train, test = train_df.values, test_df.values\n",
    "    \n",
    "train = np.reshape(train, (len(train), 1))\n",
    "scale = MinMaxScaler()\n",
    "train = scale.fit_transform(train)\n",
    "x_train, y_train = train[0:len(train)-1], train[1:len(train)]\n",
    "x_train = np.reshape(x_train, (len(x_train), 1, 1))\n",
    "#df.plot(figsize=(15,5), title=\"Closing Price\")    "
   ]
  },
  {
   "cell_type": "code",
   "execution_count": null,
   "metadata": {
    "scrolled": true
   },
   "outputs": [],
   "source": [
    "model = Sequential()\n",
    "model.add(LSTM(128,activation=\"sigmoid\",input_shape=(1,1)))\n",
    "model.add(Dropout(0.2))\n",
    "model.add(Dense(1))\n",
    "model.compile(loss='mean_squared_error', optimizer='adam')\n",
    "model.fit(x_train, y_train, epochs=100, batch_size=50)"
   ]
  },
  {
   "cell_type": "code",
   "execution_count": null,
   "metadata": {},
   "outputs": [],
   "source": [
    "model.summary()"
   ]
  },
  {
   "cell_type": "code",
   "execution_count": null,
   "metadata": {},
   "outputs": [],
   "source": [
    "x_test = np.reshape(test, (len(test),1))\n",
    "x_test = scale.transform(x_test)\n",
    "x_test = np.reshape(x_test, (len(x_test),1,1))\n",
    "y_pred = model.predict(x_test)\n",
    "y_pred = scale.inverse_transform(y_pred)"
   ]
  },
  {
   "cell_type": "code",
   "execution_count": null,
   "metadata": {},
   "outputs": [],
   "source": [
    "test_df['Close_pred'] = y_pred\n",
    "data = pd.concat([test_df, train_df], sort=False)"
   ]
  },
  {
   "cell_type": "code",
   "execution_count": null,
   "metadata": {},
   "outputs": [],
   "source": [
    "data.plot()"
   ]
  },
  {
   "cell_type": "code",
   "execution_count": null,
   "metadata": {},
   "outputs": [],
   "source": [
    "test_df.plot()"
   ]
  }
 ],
 "metadata": {
  "kernelspec": {
   "display_name": "Python 3",
   "language": "python",
   "name": "python3"
  },
  "language_info": {
   "codemirror_mode": {
    "name": "ipython",
    "version": 3
   },
   "file_extension": ".py",
   "mimetype": "text/x-python",
   "name": "python",
   "nbconvert_exporter": "python",
   "pygments_lexer": "ipython3",
   "version": "3.6.9"
  }
 },
 "nbformat": 4,
 "nbformat_minor": 4
}
